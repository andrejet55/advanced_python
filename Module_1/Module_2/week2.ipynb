{
 "cells": [
  {
   "cell_type": "markdown",
   "metadata": {},
   "source": [
    "# Module 2 - Relational Databases"
   ]
  },
  {
   "cell_type": "markdown",
   "metadata": {},
   "source": [
    "ANDREA FRANCO C0931897"
   ]
  },
  {
   "cell_type": "markdown",
   "metadata": {},
   "source": [
    "SQL - Structured Query Language\n",
    "SQL DBs have two or more tables with columns and rows\n",
    "\n",
    "**Used for**\n",
    "* Execute queries\n",
    "* CRUD operations\n",
    "\n"
   ]
  },
  {
   "cell_type": "markdown",
   "metadata": {},
   "source": [
    "## SQLite\n",
    "\n",
    "Serverless database: no need to connect with a server to connect with python and most of the languages\n"
   ]
  },
  {
   "cell_type": "markdown",
   "metadata": {},
   "source": []
  },
  {
   "cell_type": "code",
   "execution_count": 1,
   "metadata": {},
   "outputs": [],
   "source": [
    "# import\n",
    "import sqlite3\n",
    "\n",
    "# create connection (this works like the cable to connect the db with python)\n",
    "conn = sqlite3.connect('example.db')"
   ]
  },
  {
   "cell_type": "code",
   "execution_count": 2,
   "metadata": {},
   "outputs": [],
   "source": [
    "# cursor works like a basket to carry objects from the db to python and likewise\n",
    "cursor = conn.cursor()"
   ]
  },
  {
   "cell_type": "code",
   "execution_count": 3,
   "metadata": {},
   "outputs": [],
   "source": [
    "# Write the querie to create the table (the oranges)\n",
    "sql = '''CREATE TABLE EMPLOYEE(\n",
    "    FIRST_NAME  CHAR(20) NOT NULL,\n",
    "    LAST_NAME   CHAR(20),\n",
    "    AGE         INT      NOT NULL,\n",
    "    SEX         CHAR(1),\n",
    "    INCOME      FLOAT)'''\n",
    "\n",
    "# Execute the querie (put the oranges in the basket that is already hanging from the line)\n",
    "cursor.execute(sql)\n",
    "\n",
    "# Push the basket into the other side\n",
    "conn.commit()"
   ]
  },
  {
   "cell_type": "code",
   "execution_count": 4,
   "metadata": {},
   "outputs": [
    {
     "name": "stdout",
     "output_type": "stream",
     "text": [
      "[(0, 'FIRST_NAME', 'CHAR(20)', 1, None, 0), (1, 'LAST_NAME', 'CHAR(20)', 0, None, 0), (2, 'AGE', 'INT', 1, None, 0), (3, 'SEX', 'CHAR(1)', 0, None, 0), (4, 'INCOME', 'FLOAT', 0, None, 0)]\n"
     ]
    }
   ],
   "source": [
    "# print the current tables\n",
    "print_table = \"\"\"\n",
    "PRAGMA table_info(EMPLOYEE) \"\"\"\n",
    "\n",
    "cursor.execute(print_table)\n",
    "\n",
    "conn.commit()\n",
    "\n",
    "print(cursor.fetchall())"
   ]
  },
  {
   "cell_type": "code",
   "execution_count": 5,
   "metadata": {},
   "outputs": [
    {
     "name": "stdout",
     "output_type": "stream",
     "text": [
      "[]\n"
     ]
    }
   ],
   "source": [
    "print_table_name = '''\n",
    "SELECT FIRST_NAME FROM EMPLOYEE'''\n",
    "\n",
    "cursor.execute(print_table_name)\n",
    "\n",
    "conn.commit()\n",
    "\n",
    "print(cursor.fetchall())"
   ]
  },
  {
   "cell_type": "markdown",
   "metadata": {},
   "source": [
    "### Transform a table into a pandas dataframe"
   ]
  },
  {
   "cell_type": "code",
   "execution_count": 6,
   "metadata": {},
   "outputs": [],
   "source": [
    "import pandas as pd"
   ]
  },
  {
   "cell_type": "code",
   "execution_count": 7,
   "metadata": {},
   "outputs": [],
   "source": [
    "db = pd.read_sql('SELECT * FROM EMPLOYEE', conn)"
   ]
  },
  {
   "cell_type": "code",
   "execution_count": 8,
   "metadata": {},
   "outputs": [
    {
     "name": "stdout",
     "output_type": "stream",
     "text": [
      "Empty DataFrame\n",
      "Columns: [FIRST_NAME, LAST_NAME, AGE, SEX, INCOME]\n",
      "Index: []\n"
     ]
    }
   ],
   "source": [
    "print(db)"
   ]
  },
  {
   "cell_type": "markdown",
   "metadata": {},
   "source": [
    "### Insert values"
   ]
  },
  {
   "cell_type": "code",
   "execution_count": 9,
   "metadata": {},
   "outputs": [],
   "source": [
    "cursor.execute('''INSERT INTO EMPLOYEE(FIRST_NAME, LAST_NAME, AGE, SEX, INCOME) VALUES\n",
    "               ('Ramya','Rama Priya', 27, 'F', 9000), \n",
    "               ('Sharukh','Sheik', 25, 'M', 8300),\n",
    "               ('Sarmista', 'Sharma', 26, 'F', 10000),\n",
    "               ('Sharukh', 'Sheik', 25, 'M', 8300),\n",
    "               ('Sharukh', 'Sheik', 25, 'M', 8300),\n",
    "               ('Sarmista', 'Sharma', 26, 'F', 10000)''')\n",
    "\n",
    "conn.commit()"
   ]
  },
  {
   "cell_type": "code",
   "execution_count": 10,
   "metadata": {},
   "outputs": [
    {
     "name": "stdout",
     "output_type": "stream",
     "text": [
      "[('Ramya', 'Rama Priya', 27, 'F', 9000.0), ('Sharukh', 'Sheik', 25, 'M', 8300.0), ('Sarmista', 'Sharma', 26, 'F', 10000.0), ('Sharukh', 'Sheik', 25, 'M', 8300.0), ('Sharukh', 'Sheik', 25, 'M', 8300.0), ('Sarmista', 'Sharma', 26, 'F', 10000.0)]\n"
     ]
    }
   ],
   "source": [
    "cursor.execute('''\n",
    "SELECT * FROM EMPLOYEE''')\n",
    "\n",
    "conn.commit()\n",
    "\n",
    "print(cursor.fetchall())"
   ]
  },
  {
   "cell_type": "code",
   "execution_count": 11,
   "metadata": {},
   "outputs": [],
   "source": [
    "cursor.execute('''INSERT INTO EMPLOYEE(FIRST_NAME, LAST_NAME, AGE, SEX, INCOME) VALUES\n",
    "               ('Andrea','Franco', 24, 'F', 10000), \n",
    "               ('Andres','Urbano', 24, 'M', 8000),\n",
    "               ('Mike', 'Wasazki', 30, 'M', 10000),\n",
    "               ('Jason', 'Sullivan', 31, 'M', 12000)''')\n",
    "\n",
    "conn.commit()"
   ]
  },
  {
   "cell_type": "code",
   "execution_count": 12,
   "metadata": {},
   "outputs": [
    {
     "name": "stdout",
     "output_type": "stream",
     "text": [
      "[('Ramya', 'Rama Priya', 27, 'F', 9000.0), ('Sharukh', 'Sheik', 25, 'M', 8300.0), ('Sarmista', 'Sharma', 26, 'F', 10000.0), ('Sharukh', 'Sheik', 25, 'M', 8300.0), ('Sharukh', 'Sheik', 25, 'M', 8300.0), ('Sarmista', 'Sharma', 26, 'F', 10000.0), ('Andrea', 'Franco', 24, 'F', 10000.0), ('Andres', 'Urbano', 24, 'M', 8000.0), ('Mike', 'Wasazki', 30, 'M', 10000.0), ('Jason', 'Sullivan', 31, 'M', 12000.0)]\n"
     ]
    }
   ],
   "source": [
    "cursor.execute('''\n",
    "SELECT * FROM EMPLOYEE''')\n",
    "\n",
    "conn.commit()\n",
    "\n",
    "print(cursor.fetchall())"
   ]
  },
  {
   "cell_type": "markdown",
   "metadata": {},
   "source": [
    "### Read\n",
    "\n",
    "* fetchone() -> To fetch the next row. If you execute it once, its the first row, second one, second row, etc.\n",
    "* fetchmany() -> you have to specify how many\n",
    "* fetchall() -> fetch all"
   ]
  },
  {
   "cell_type": "code",
   "execution_count": 13,
   "metadata": {},
   "outputs": [
    {
     "name": "stdout",
     "output_type": "stream",
     "text": [
      "('Ramya', 'Rama Priya', 27, 'F', 9000.0)\n",
      "('Sharukh', 'Sheik', 25, 'M', 8300.0)\n"
     ]
    }
   ],
   "source": [
    "cursor.execute('''SELECT * from EMPLOYEE''')\n",
    "result = cursor.fetchone()\n",
    "print(result)\n",
    "result = cursor.fetchone()\n",
    "print(result)"
   ]
  },
  {
   "cell_type": "code",
   "execution_count": 14,
   "metadata": {},
   "outputs": [
    {
     "name": "stdout",
     "output_type": "stream",
     "text": [
      "[('Ramya', 'Rama Priya', 27, 'F', 9000.0), ('Sharukh', 'Sheik', 25, 'M', 8300.0), ('Sarmista', 'Sharma', 26, 'F', 10000.0), ('Sharukh', 'Sheik', 25, 'M', 8300.0), ('Sharukh', 'Sheik', 25, 'M', 8300.0), ('Sarmista', 'Sharma', 26, 'F', 10000.0), ('Andrea', 'Franco', 24, 'F', 10000.0)]\n"
     ]
    }
   ],
   "source": [
    "cursor.execute('''SELECT * from EMPLOYEE''')\n",
    "result = cursor.fetchmany(7)\n",
    "print(result)"
   ]
  },
  {
   "cell_type": "code",
   "execution_count": 15,
   "metadata": {},
   "outputs": [
    {
     "name": "stdout",
     "output_type": "stream",
     "text": [
      "[('Andres', 'Urbano', 24, 'M', 8000.0), ('Mike', 'Wasazki', 30, 'M', 10000.0), ('Jason', 'Sullivan', 31, 'M', 12000.0)]\n"
     ]
    }
   ],
   "source": [
    "result = cursor.fetchall()\n",
    "print(result)"
   ]
  },
  {
   "cell_type": "markdown",
   "metadata": {},
   "source": [
    "We need to \"fill the basket again\" in order to get the same result. We need to execute the SELECT querie again."
   ]
  },
  {
   "cell_type": "code",
   "execution_count": 16,
   "metadata": {},
   "outputs": [
    {
     "name": "stdout",
     "output_type": "stream",
     "text": [
      "None\n"
     ]
    }
   ],
   "source": [
    "result = cursor.fetchone()\n",
    "print(result)"
   ]
  },
  {
   "cell_type": "markdown",
   "metadata": {},
   "source": [
    "### Update"
   ]
  },
  {
   "cell_type": "code",
   "execution_count": 17,
   "metadata": {},
   "outputs": [
    {
     "data": {
      "text/plain": [
       "[]"
      ]
     },
     "execution_count": 17,
     "metadata": {},
     "output_type": "execute_result"
    }
   ],
   "source": [
    "sql = \"\"\" UPDATE EMPLOYEE SET AGE=AGE+1 WHERE SEX = 'M' \"\"\"\n",
    "cursor.execute(sql)\n",
    "conn.commit()\n",
    "cursor.fetchall()"
   ]
  },
  {
   "cell_type": "code",
   "execution_count": 18,
   "metadata": {},
   "outputs": [],
   "source": [
    "sql = \"\"\" UPDATE EMPLOYEE SET LAST_NAME=NULL\"\"\"\n",
    "cursor.execute(sql)\n",
    "conn.commit()"
   ]
  },
  {
   "cell_type": "code",
   "execution_count": 19,
   "metadata": {},
   "outputs": [
    {
     "name": "stdout",
     "output_type": "stream",
     "text": [
      "[('Ramya', None, 27, 'F', 9000.0), ('Sharukh', None, 26, 'M', 8300.0), ('Sarmista', None, 26, 'F', 10000.0), ('Sharukh', None, 26, 'M', 8300.0), ('Sharukh', None, 26, 'M', 8300.0), ('Sarmista', None, 26, 'F', 10000.0), ('Andrea', None, 24, 'F', 10000.0), ('Andres', None, 25, 'M', 8000.0), ('Mike', None, 31, 'M', 10000.0), ('Jason', None, 32, 'M', 12000.0)]\n"
     ]
    }
   ],
   "source": [
    "cursor.execute('''SELECT * from EMPLOYEE''')\n",
    "result = cursor.fetchall()\n",
    "print(result)"
   ]
  },
  {
   "cell_type": "code",
   "execution_count": 20,
   "metadata": {},
   "outputs": [],
   "source": [
    "sql = \"\"\" ALTER TABLE EMPLOYEE RENAME LAST_NAME to FAMILY_NAME\"\"\"\n",
    "cursor.execute(sql)\n",
    "conn.commit()"
   ]
  },
  {
   "cell_type": "code",
   "execution_count": 21,
   "metadata": {},
   "outputs": [
    {
     "name": "stdout",
     "output_type": "stream",
     "text": [
      "[(0, 'FIRST_NAME', 'CHAR(20)', 1, None, 0), (1, 'FAMILY_NAME', 'CHAR(20)', 0, None, 0), (2, 'AGE', 'INT', 1, None, 0), (3, 'SEX', 'CHAR(1)', 0, None, 0), (4, 'INCOME', 'FLOAT', 0, None, 0)]\n"
     ]
    }
   ],
   "source": [
    "cursor.execute('''PRAGMA table_info(EMPLOYEE)''')\n",
    "result = cursor.fetchall()\n",
    "print(result)"
   ]
  },
  {
   "cell_type": "markdown",
   "metadata": {},
   "source": [
    "### Duplicate income column called income2"
   ]
  },
  {
   "cell_type": "code",
   "execution_count": 22,
   "metadata": {},
   "outputs": [],
   "source": [
    "sql = \"\"\" ALTER TABLE EMPLOYEE ADD INCOME2 FLOAT\"\"\"\n",
    "cursor.execute(sql)\n",
    "conn.commit()"
   ]
  },
  {
   "cell_type": "code",
   "execution_count": 23,
   "metadata": {},
   "outputs": [],
   "source": [
    "sql = \"\"\"UPDATE EMPLOYEE SET INCOME2 = INCOME\"\"\"\n",
    "cursor.execute(sql)\n",
    "conn.commit()"
   ]
  },
  {
   "cell_type": "code",
   "execution_count": 24,
   "metadata": {},
   "outputs": [
    {
     "name": "stdout",
     "output_type": "stream",
     "text": [
      "[(0, 'FIRST_NAME', 'CHAR(20)', 1, None, 0), (1, 'FAMILY_NAME', 'CHAR(20)', 0, None, 0), (2, 'AGE', 'INT', 1, None, 0), (3, 'SEX', 'CHAR(1)', 0, None, 0), (4, 'INCOME', 'FLOAT', 0, None, 0), (5, 'INCOME2', 'FLOAT', 0, None, 0)]\n"
     ]
    }
   ],
   "source": [
    "cursor.execute('''PRAGMA table_info(EMPLOYEE)''')\n",
    "result = cursor.fetchall()\n",
    "print(result)"
   ]
  },
  {
   "cell_type": "markdown",
   "metadata": {},
   "source": [
    "Rename it to EMPLOYEE_INCOME"
   ]
  },
  {
   "cell_type": "code",
   "execution_count": 25,
   "metadata": {},
   "outputs": [],
   "source": [
    "sql = \"\"\" ALTER TABLE EMPLOYEE RENAME INCOME2 to EMPLOYEE_INCOME\"\"\"\n",
    "cursor.execute(sql)\n",
    "conn.commit()"
   ]
  },
  {
   "cell_type": "code",
   "execution_count": 26,
   "metadata": {},
   "outputs": [
    {
     "name": "stdout",
     "output_type": "stream",
     "text": [
      "[(0, 'FIRST_NAME', 'CHAR(20)', 1, None, 0), (1, 'FAMILY_NAME', 'CHAR(20)', 0, None, 0), (2, 'AGE', 'INT', 1, None, 0), (3, 'SEX', 'CHAR(1)', 0, None, 0), (4, 'INCOME', 'FLOAT', 0, None, 0), (5, 'EMPLOYEE_INCOME', 'FLOAT', 0, None, 0)]\n"
     ]
    }
   ],
   "source": [
    "cursor.execute('''PRAGMA table_info(EMPLOYEE)''')\n",
    "result = cursor.fetchall()\n",
    "print(result)"
   ]
  },
  {
   "cell_type": "markdown",
   "metadata": {},
   "source": [
    "### Create a duplicate table and name it as my name"
   ]
  },
  {
   "cell_type": "code",
   "execution_count": 27,
   "metadata": {},
   "outputs": [
    {
     "name": "stdout",
     "output_type": "stream",
     "text": [
      "[]\n"
     ]
    }
   ],
   "source": [
    "cursor.execute('''PRAGMA table_info(Andrea)''')\n",
    "result = cursor.fetchall()\n",
    "print(result)"
   ]
  },
  {
   "cell_type": "code",
   "execution_count": 28,
   "metadata": {},
   "outputs": [],
   "source": [
    "sql = \"\"\" CREATE TABLE Andrea AS SELECT * FROM EMPLOYEE;\"\"\"\n",
    "cursor.execute(sql)\n",
    "conn.commit()"
   ]
  },
  {
   "cell_type": "markdown",
   "metadata": {},
   "source": [
    "### Delete income column"
   ]
  },
  {
   "cell_type": "code",
   "execution_count": 29,
   "metadata": {},
   "outputs": [
    {
     "name": "stdout",
     "output_type": "stream",
     "text": [
      "[(0, 'FIRST_NAME', 'TEXT', 0, None, 0), (1, 'FAMILY_NAME', 'TEXT', 0, None, 0), (2, 'AGE', 'INT', 0, None, 0), (3, 'SEX', 'TEXT', 0, None, 0), (4, 'INCOME', 'REAL', 0, None, 0), (5, 'EMPLOYEE_INCOME', 'REAL', 0, None, 0)]\n"
     ]
    }
   ],
   "source": [
    "cursor.execute('''PRAGMA table_info(Andrea)''')\n",
    "result = cursor.fetchall()\n",
    "print(result)"
   ]
  },
  {
   "cell_type": "code",
   "execution_count": 30,
   "metadata": {},
   "outputs": [],
   "source": [
    "sql = \"\"\" ALTER TABLE Andrea DROP COLUMN EMPLOYEE_INCOME\"\"\"\n",
    "cursor.execute(sql)\n",
    "conn.commit()"
   ]
  },
  {
   "cell_type": "code",
   "execution_count": 31,
   "metadata": {},
   "outputs": [
    {
     "name": "stdout",
     "output_type": "stream",
     "text": [
      "SQLite version: 3.42.0\n"
     ]
    }
   ],
   "source": [
    "cursor.execute(\"SELECT sqlite_version()\")\n",
    "version = cursor.fetchone()[0]\n",
    "print(f\"SQLite version: {version}\")"
   ]
  },
  {
   "cell_type": "markdown",
   "metadata": {},
   "source": [
    "### Drop table employee"
   ]
  },
  {
   "cell_type": "code",
   "execution_count": 32,
   "metadata": {},
   "outputs": [],
   "source": [
    "sql = \"\"\" DROP TABLE EMPLOYEE\"\"\"\n",
    "cursor.execute(sql)\n",
    "conn.commit()"
   ]
  },
  {
   "cell_type": "markdown",
   "metadata": {},
   "source": [
    "# MongoDB"
   ]
  },
  {
   "cell_type": "markdown",
   "metadata": {},
   "source": [
    "Server database"
   ]
  }
 ],
 "metadata": {
  "kernelspec": {
   "display_name": ".venv",
   "language": "python",
   "name": "python3"
  },
  "language_info": {
   "codemirror_mode": {
    "name": "ipython",
    "version": 3
   },
   "file_extension": ".py",
   "mimetype": "text/x-python",
   "name": "python",
   "nbconvert_exporter": "python",
   "pygments_lexer": "ipython3",
   "version": "3.11.4"
  }
 },
 "nbformat": 4,
 "nbformat_minor": 2
}
