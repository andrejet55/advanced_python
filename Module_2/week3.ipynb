{
 "cells": [
  {
   "cell_type": "markdown",
   "metadata": {},
   "source": [
    "# MongoDB"
   ]
  },
  {
   "cell_type": "markdown",
   "metadata": {},
   "source": [
    "Andrea Franco c0931897"
   ]
  },
  {
   "cell_type": "code",
   "execution_count": 1,
   "metadata": {},
   "outputs": [],
   "source": [
    "import pymongo\n",
    "from pymongo import MongoClient"
   ]
  },
  {
   "cell_type": "code",
   "execution_count": 2,
   "metadata": {},
   "outputs": [],
   "source": [
    "client = MongoClient()\n",
    "\n",
    "db = client.test"
   ]
  },
  {
   "cell_type": "code",
   "execution_count": 3,
   "metadata": {},
   "outputs": [],
   "source": [
    "employee = db.employee"
   ]
  },
  {
   "cell_type": "code",
   "execution_count": 4,
   "metadata": {},
   "outputs": [
    {
     "name": "stdout",
     "output_type": "stream",
     "text": [
      "['admin', 'config', 'local']\n"
     ]
    }
   ],
   "source": [
    "print(client.list_database_names())"
   ]
  },
  {
   "cell_type": "code",
   "execution_count": 5,
   "metadata": {},
   "outputs": [],
   "source": [
    "dblist = client.list_database_names()\n",
    "if \"test\" in dblist:\n",
    "    print(\"The {} exists.\".format('test'))"
   ]
  },
  {
   "cell_type": "code",
   "execution_count": 6,
   "metadata": {},
   "outputs": [
    {
     "name": "stdout",
     "output_type": "stream",
     "text": [
      "[]\n"
     ]
    }
   ],
   "source": [
    "print(db.list_collection_names())"
   ]
  },
  {
   "cell_type": "code",
   "execution_count": 7,
   "metadata": {},
   "outputs": [],
   "source": [
    "collist = db.list_collection_names()\n",
    "if \"employee\" in collist:\n",
    "    print(\"The employee collection exists.\")"
   ]
  },
  {
   "cell_type": "code",
   "execution_count": 8,
   "metadata": {},
   "outputs": [],
   "source": [
    "employee_details = {\n",
    "    'Name': 'Raj Kumar',\n",
    "    'Address': 'Sears Streer, NZ',\n",
    "    'Age': '42'\n",
    "}\n",
    "\n",
    "result = employee.insert_one(employee_details)"
   ]
  },
  {
   "cell_type": "code",
   "execution_count": 9,
   "metadata": {},
   "outputs": [
    {
     "name": "stdout",
     "output_type": "stream",
     "text": [
      "66eceaf58e84545cc0da098a\n"
     ]
    }
   ],
   "source": [
    "print(result.inserted_id)"
   ]
  },
  {
   "cell_type": "code",
   "execution_count": 10,
   "metadata": {},
   "outputs": [],
   "source": [
    "mylist = [{\"_id\":1,\"name\":\"John\",\"address\":\"Highway 37\"},\n",
    "          {\"_id\":2,\"name\":\"Peter\",\"address\":\"Lowstreet 27\"},\n",
    "          {\"_id\":3,\"name\":\"Amy\",\"address\": \"Close st 652\"},\n",
    "          {\"_id\":4,\"name\":\"Hannah\",\"address\":\"Mountain 21\"},\n",
    "          {\"_id\":5,\"name\":\"Michael\",\"address\":\"Valley 345\"},\n",
    "          {\"_id\":6,\"name\": \"Vicky\", \"address\": \"Yellow Garden 124\"},\n",
    "          {\"_id\":7,\"name\": \"Nicky\", \"address\": \"Yellow Garden 23\"},\n",
    "          {\"_id\":8,\"name\": \"Nancy\", \"address\": \"Younge Ave. 123\"},\n",
    "          {\"_id\":9,\"name\": \"Viola\", \"address\": \"Sideway Ave\"}]\n"
   ]
  },
  {
   "cell_type": "code",
   "execution_count": 11,
   "metadata": {},
   "outputs": [
    {
     "name": "stdout",
     "output_type": "stream",
     "text": [
      "[1, 2, 3, 4, 5, 6, 7, 8, 9]\n"
     ]
    }
   ],
   "source": [
    "x = employee.insert_many(mylist)\n",
    "print(x.inserted_ids)"
   ]
  },
  {
   "cell_type": "code",
   "execution_count": 13,
   "metadata": {},
   "outputs": [
    {
     "name": "stdout",
     "output_type": "stream",
     "text": [
      "['admin', 'config', 'local', 'test']\n"
     ]
    }
   ],
   "source": [
    "print(client.list_database_names())"
   ]
  },
  {
   "cell_type": "code",
   "execution_count": 14,
   "metadata": {},
   "outputs": [
    {
     "name": "stdout",
     "output_type": "stream",
     "text": [
      "The test exists.\n"
     ]
    }
   ],
   "source": [
    "dblist = client.list_database_names()\n",
    "if \"test\" in dblist:\n",
    "    print(\"The {} exists.\".format('test'))"
   ]
  },
  {
   "cell_type": "code",
   "execution_count": 15,
   "metadata": {},
   "outputs": [
    {
     "name": "stdout",
     "output_type": "stream",
     "text": [
      "['employee']\n",
      "The employee collection exists.\n"
     ]
    }
   ],
   "source": [
    "print(db.list_collection_names())\n",
    "collist = db.list_collection_names()\n",
    "if \"employee\" in collist:\n",
    "    print(\"The employee collection exists.\")"
   ]
  },
  {
   "cell_type": "markdown",
   "metadata": {},
   "source": [
    "### Read one record"
   ]
  },
  {
   "cell_type": "code",
   "execution_count": 16,
   "metadata": {},
   "outputs": [
    {
     "name": "stdout",
     "output_type": "stream",
     "text": [
      "{'_id': ObjectId('66eceaf58e84545cc0da098a'), 'Name': 'Raj Kumar', 'Address': 'Sears Streer, NZ', 'Age': '42'}\n"
     ]
    }
   ],
   "source": [
    "x = employee.find_one()\n",
    "print(x)"
   ]
  },
  {
   "cell_type": "markdown",
   "metadata": {},
   "source": [
    "### Read all records"
   ]
  },
  {
   "cell_type": "code",
   "execution_count": 17,
   "metadata": {},
   "outputs": [
    {
     "name": "stdout",
     "output_type": "stream",
     "text": [
      "{'_id': ObjectId('66eceaf58e84545cc0da098a'), 'Name': 'Raj Kumar', 'Address': 'Sears Streer, NZ', 'Age': '42'}\n",
      "{'_id': 1, 'name': 'John', 'address': 'Highway 37'}\n",
      "{'_id': 2, 'name': 'Peter', 'address': 'Lowstreet 27'}\n",
      "{'_id': 3, 'name': 'Amy', 'address': 'Close st 652'}\n",
      "{'_id': 4, 'name': 'Hannah', 'address': 'Mountain 21'}\n",
      "{'_id': 5, 'name': 'Michael', 'address': 'Valley 345'}\n",
      "{'_id': 6, 'name': 'Vicky', 'address': 'Yellow Garden 124'}\n",
      "{'_id': 7, 'name': 'Nicky', 'address': 'Yellow Garden 23'}\n",
      "{'_id': 8, 'name': 'Nancy', 'address': 'Younge Ave. 123'}\n",
      "{'_id': 9, 'name': 'Viola', 'address': 'Sideway Ave'}\n"
     ]
    }
   ],
   "source": [
    "for x in employee.find():\n",
    "    print(x)"
   ]
  },
  {
   "cell_type": "code",
   "execution_count": 20,
   "metadata": {},
   "outputs": [
    {
     "name": "stdout",
     "output_type": "stream",
     "text": [
      "{'_id': ObjectId('66eceaf58e84545cc0da098a'), 'Name': 'Raj Kumar', 'Address': 'Sears Streer, NZ', 'Age': '42'}\n",
      "{'_id': 1, 'name': 'John', 'address': 'Highway 37'}\n"
     ]
    }
   ],
   "source": [
    "# number of rows to retrieve\n",
    "n_rows = 2\n",
    "for i in range(0,n_rows):\n",
    "    x = employee.find()[i]\n",
    "    print(x)"
   ]
  },
  {
   "cell_type": "code",
   "execution_count": 21,
   "metadata": {},
   "outputs": [
    {
     "name": "stdout",
     "output_type": "stream",
     "text": [
      "{'_id': ObjectId('66eceaf58e84545cc0da098a'), 'Name': 'Raj Kumar', 'Address': 'Sears Streer, NZ', 'Age': '42'}\n",
      "{'_id': 1, 'name': 'John', 'address': 'Highway 37'}\n",
      "{'_id': 2, 'name': 'Peter', 'address': 'Lowstreet 27'}\n",
      "{'_id': 3, 'name': 'Amy', 'address': 'Close st 652'}\n",
      "{'_id': 4, 'name': 'Hannah', 'address': 'Mountain 21'}\n"
     ]
    }
   ],
   "source": [
    "myresult = employee.find().limit(5)\n",
    "\n",
    "for x in myresult:\n",
    "    print(x)"
   ]
  },
  {
   "cell_type": "code",
   "execution_count": 26,
   "metadata": {},
   "outputs": [
    {
     "name": "stdout",
     "output_type": "stream",
     "text": [
      "{'_id': ObjectId('66eceaf58e84545cc0da098a'), 'Name': 'Raj Kumar', 'Address': 'Sears Streer, NZ', 'Age': '42'}\n",
      "{'_id': 1, 'name': 'John', 'address': 'Highway 37'}\n",
      "{'_id': 2, 'name': 'Peter', 'address': 'Lowstreet 27'}\n",
      "{'_id': 3, 'name': 'Amy', 'address': 'Close st 652'}\n",
      "{'_id': 4, 'name': 'Hannah', 'address': 'Mountain 21'}\n"
     ]
    }
   ],
   "source": [
    "n_rows = 5\n",
    "i = 0\n",
    "while i < n_rows:    \n",
    "    myresult = employee.find()[i]\n",
    "    print(myresult)\n",
    "    i +=1"
   ]
  },
  {
   "cell_type": "markdown",
   "metadata": {},
   "source": [
    "### Define filters in the search"
   ]
  },
  {
   "cell_type": "markdown",
   "metadata": {},
   "source": [
    "First brackets define the criteria to filter (advanced queries), if empty, returns all the records (rows).\n",
    "\n",
    "The second one defines the filters on the data files"
   ]
  },
  {
   "cell_type": "code",
   "execution_count": 27,
   "metadata": {},
   "outputs": [
    {
     "name": "stdout",
     "output_type": "stream",
     "text": [
      "{}\n",
      "{'name': 'John', 'address': 'Highway 37'}\n",
      "{'name': 'Peter', 'address': 'Lowstreet 27'}\n",
      "{'name': 'Amy', 'address': 'Close st 652'}\n",
      "{'name': 'Hannah', 'address': 'Mountain 21'}\n",
      "{'name': 'Michael', 'address': 'Valley 345'}\n",
      "{'name': 'Vicky', 'address': 'Yellow Garden 124'}\n",
      "{'name': 'Nicky', 'address': 'Yellow Garden 23'}\n",
      "{'name': 'Nancy', 'address': 'Younge Ave. 123'}\n",
      "{'name': 'Viola', 'address': 'Sideway Ave'}\n"
     ]
    }
   ],
   "source": [
    "for x in employee.find({},{\"_id\":0,\"name\":1,\"address\":1}):\n",
    "    print(x)"
   ]
  },
  {
   "cell_type": "code",
   "execution_count": null,
   "metadata": {},
   "outputs": [],
   "source": [
    "for x in employee.find({}, {'Age': 0}):\n",
    "    print(x)"
   ]
  },
  {
   "cell_type": "markdown",
   "metadata": {},
   "source": [
    "![Picture1.png](attachment:Picture1.png)"
   ]
  },
  {
   "cell_type": "code",
   "execution_count": 29,
   "metadata": {},
   "outputs": [
    {
     "name": "stdout",
     "output_type": "stream",
     "text": [
      "{'_id': 1, 'name': 'John', 'address': 'Highway 37'}\n"
     ]
    }
   ],
   "source": [
    "myquery = {\"address\": \"Highway 37\"}\n",
    "mydoc = employee.find(myquery)\n",
    "\n",
    "for x in mydoc:\n",
    "    print(x)"
   ]
  },
  {
   "cell_type": "markdown",
   "metadata": {},
   "source": [
    "Challenge question :  Imagine we have multiple documents where the address is “Highway 37“; modify the code above to get only the last 2 documents that satisfy the query above!\n"
   ]
  },
  {
   "cell_type": "code",
   "execution_count": 33,
   "metadata": {},
   "outputs": [
    {
     "name": "stdout",
     "output_type": "stream",
     "text": [
      "{'_id': 1, 'name': 'John', 'address': 'Highway 37'}\n"
     ]
    }
   ],
   "source": [
    "mydoc = employee.find(myquery).sort({ 'any_field': -1 }).limit(2);\n",
    "\n",
    "for x in mydoc:\n",
    "    print(x)"
   ]
  },
  {
   "cell_type": "markdown",
   "metadata": {},
   "source": [
    "### Regex functions"
   ]
  },
  {
   "cell_type": "code",
   "execution_count": 35,
   "metadata": {},
   "outputs": [
    {
     "name": "stdout",
     "output_type": "stream",
     "text": [
      "{'_id': 5, 'name': 'Michael', 'address': 'Valley 345'}\n"
     ]
    }
   ],
   "source": [
    "myquery = {\"address\": {\"$regex\": \"V\"}}\n",
    "\n",
    "mydoc = employee.find(myquery)\n",
    "\n",
    "for x in mydoc:\n",
    "    print(x)"
   ]
  },
  {
   "cell_type": "markdown",
   "metadata": {},
   "source": [
    "Challenge question :  write a query that prints all records having the letter  ‘l’ (it’s L in lower case ) in their address field !\n"
   ]
  },
  {
   "cell_type": "code",
   "execution_count": 36,
   "metadata": {},
   "outputs": [
    {
     "name": "stdout",
     "output_type": "stream",
     "text": [
      "{'_id': 3, 'name': 'Amy', 'address': 'Close st 652'}\n",
      "{'_id': 5, 'name': 'Michael', 'address': 'Valley 345'}\n",
      "{'_id': 6, 'name': 'Vicky', 'address': 'Yellow Garden 124'}\n",
      "{'_id': 7, 'name': 'Nicky', 'address': 'Yellow Garden 23'}\n"
     ]
    }
   ],
   "source": [
    "myquery = {\"address\":{\"$regex\":\"l\"}}\n",
    "\n",
    "mydoc = employee.find(myquery) \n",
    "\n",
    "for x in mydoc:\n",
    "    print(x)"
   ]
  },
  {
   "cell_type": "markdown",
   "metadata": {},
   "source": [
    "#### OR Function"
   ]
  },
  {
   "cell_type": "code",
   "execution_count": 40,
   "metadata": {},
   "outputs": [
    {
     "name": "stdout",
     "output_type": "stream",
     "text": [
      "{'_id': 5, 'name': 'Michael', 'address': 'Valley 345'}\n",
      "{'_id': 9, 'name': 'Viola', 'address': 'Sideway Ave'}\n"
     ]
    }
   ],
   "source": [
    "# look for an address that starts with V or starts with S\n",
    "#myquery = {\"$or\":[{\"address\": {\"$regex\": \"^V\"}},\n",
    "#                  {\"address\": {\"$regex\": \"^S\"}}]}\n",
    "\n",
    "# simpler method\n",
    "myquery = {\"address\": {\"$regex\": \"^V|^S\"}}\n",
    "\n",
    "mydoc = employee.find(myquery)\n",
    "\n",
    "for x in mydoc:\n",
    "    print(x)"
   ]
  },
  {
   "cell_type": "markdown",
   "metadata": {},
   "source": [
    "#### AND function `$and` or ``"
   ]
  },
  {
   "cell_type": "code",
   "execution_count": 41,
   "metadata": {},
   "outputs": [
    {
     "name": "stdout",
     "output_type": "stream",
     "text": [
      "{'_id': 6, 'name': 'Vicky', 'address': 'Yellow Garden 124'}\n",
      "{'_id': 8, 'name': 'Nancy', 'address': 'Younge Ave. 123'}\n"
     ]
    }
   ],
   "source": [
    "myquery = {\"$and\": [{\"address\": {\"$regex\": \"Y\"}},\n",
    "                    {\"address\": {\"$regex\": \"1\"}}]}\n",
    "\n",
    "mydoc = employee.find(myquery)\n",
    "\n",
    "for x in mydoc:\n",
    "    print(x)"
   ]
  },
  {
   "cell_type": "code",
   "execution_count": 42,
   "metadata": {},
   "outputs": [],
   "source": [
    "myquery = {\"$and\": [{\"address\": {\"$regex\": \"Y\"}},\n",
    "                    {\"address\": {\"$regex\": \"1\"}},\n",
    "                    {\"address\": {\"$regex\": \"^N\"}}]}\n",
    "\n",
    "mydoc = employee.find(myquery)\n",
    "\n",
    "for x in mydoc:\n",
    "    print(x)"
   ]
  },
  {
   "cell_type": "markdown",
   "metadata": {},
   "source": [
    "#### Logical Not equal `$ne`"
   ]
  },
  {
   "cell_type": "code",
   "execution_count": 49,
   "metadata": {},
   "outputs": [
    {
     "name": "stdout",
     "output_type": "stream",
     "text": [
      "{'_id': ObjectId('66eceaf58e84545cc0da098a'), 'Name': 'Raj Kumar', 'Address': 'Sears Streer, NZ', 'Age': '42'}\n",
      "{'_id': 2, 'name': 'Peter', 'address': 'Lowstreet 27'}\n",
      "{'_id': 3, 'name': 'Amy', 'address': 'Close st 652'}\n",
      "{'_id': 4, 'name': 'Hannah', 'address': 'Mountain 21'}\n",
      "{'_id': 5, 'name': 'Michael', 'address': 'Valley 345'}\n",
      "{'_id': 6, 'name': 'Vicky', 'address': 'Yellow Garden 124'}\n",
      "{'_id': 7, 'name': 'Nicky', 'address': 'Yellow Garden 23'}\n",
      "{'_id': 8, 'name': 'Nancy', 'address': 'Younge Ave. 123'}\n",
      "{'_id': 9, 'name': 'Viola', 'address': 'Sideway Ave'}\n"
     ]
    }
   ],
   "source": [
    "myquery = {\"name\": {\"$ne\": \"John\"}}\n",
    "\n",
    "mydoc = employee.find(myquery)\n",
    "\n",
    "for x in mydoc:\n",
    "    print(x)"
   ]
  },
  {
   "cell_type": "code",
   "execution_count": 46,
   "metadata": {},
   "outputs": [
    {
     "name": "stdout",
     "output_type": "stream",
     "text": [
      "{'_id': 4, 'name': 'Hannah', 'address': 'Mountain 21'}\n",
      "{'_id': 6, 'name': 'Vicky', 'address': 'Yellow Garden 124'}\n",
      "{'_id': 8, 'name': 'Nancy', 'address': 'Younge Ave. 123'}\n"
     ]
    }
   ],
   "source": [
    "myquery = {\"$and\": [{\"name\": {\"$ne\": \"Nicky\"},},\n",
    "                    {\"address\": {\"$regex\": \"1\"}}]}\n",
    "\n",
    "mydoc = employee.find(myquery)\n",
    "\n",
    "for x in mydoc:\n",
    "    print(x)"
   ]
  },
  {
   "cell_type": "markdown",
   "metadata": {},
   "source": [
    "#### Greater than `$gt`"
   ]
  },
  {
   "cell_type": "code",
   "execution_count": 54,
   "metadata": {},
   "outputs": [
    {
     "name": "stdout",
     "output_type": "stream",
     "text": [
      "{'_id': 5, 'name': 'Michael', 'address': 'Valley 345'}\n",
      "{'_id': 6, 'name': 'Vicky', 'address': 'Yellow Garden 124'}\n",
      "{'_id': 7, 'name': 'Nicky', 'address': 'Yellow Garden 23'}\n",
      "{'_id': 8, 'name': 'Nancy', 'address': 'Younge Ave. 123'}\n",
      "{'_id': 9, 'name': 'Viola', 'address': 'Sideway Ave'}\n"
     ]
    }
   ],
   "source": [
    "myquery = {\"address\": {\"$gt\": \"S\"}}\n",
    "\n",
    "mydoc = employee.find(myquery)\n",
    "\n",
    "for x in mydoc:\n",
    "    print(x)"
   ]
  },
  {
   "cell_type": "markdown",
   "metadata": {},
   "source": [
    "### Sort"
   ]
  },
  {
   "cell_type": "code",
   "execution_count": 61,
   "metadata": {},
   "outputs": [
    {
     "name": "stdout",
     "output_type": "stream",
     "text": [
      "{'_id': 9, 'name': 'Viola', 'address': 'Sideway Ave'}\n",
      "{'_id': 6, 'name': 'Vicky', 'address': 'Yellow Garden 124'}\n",
      "{'_id': 2, 'name': 'Peter', 'address': 'Lowstreet 27'}\n",
      "{'_id': 7, 'name': 'Nicky', 'address': 'Yellow Garden 23'}\n",
      "{'_id': 8, 'name': 'Nancy', 'address': 'Younge Ave. 123'}\n",
      "{'_id': 5, 'name': 'Michael', 'address': 'Valley 345'}\n",
      "{'_id': 1, 'name': 'John', 'address': 'Highway 37'}\n",
      "{'_id': 4, 'name': 'Hannah', 'address': 'Mountain 21'}\n",
      "{'_id': 3, 'name': 'Amy', 'address': 'Close st 652'}\n",
      "{'_id': ObjectId('66eceaf58e84545cc0da098a'), 'Name': 'Raj Kumar', 'Address': 'Sears Streer, NZ', 'Age': '42'}\n"
     ]
    }
   ],
   "source": [
    "mydoc = employee.find().sort({\"name\":-1,\"address\":1})\n",
    "\n",
    "\n",
    "for x in mydoc:\n",
    "    print(x)"
   ]
  },
  {
   "cell_type": "markdown",
   "metadata": {},
   "source": [
    "### Set new value `$Set`\n",
    "\n",
    "Providing the record to be changed based on the query provided in the first field, we can change the specified key and value provided in the second field."
   ]
  },
  {
   "cell_type": "code",
   "execution_count": 64,
   "metadata": {},
   "outputs": [
    {
     "name": "stdout",
     "output_type": "stream",
     "text": [
      "{'_id': ObjectId('66eceaf58e84545cc0da098a'), 'Name': 'Raj Kumar', 'Address': 'Sears Streer, NZ', 'Age': '42'}\n",
      "{'_id': 1, 'name': 'John', 'address': 'Highway 37'}\n",
      "{'_id': 2, 'name': 'Peter', 'address': 'Lowstreet 27'}\n",
      "{'_id': 3, 'name': 'Amy', 'address': 'Close st 652'}\n",
      "{'_id': 4, 'name': 'Hannah', 'address': 'Mountain 21'}\n",
      "{'_id': 5, 'name': 'Michael', 'address': 'Canyon 123'}\n",
      "{'_id': 6, 'name': 'Vicky', 'address': 'Yellow Garden 124'}\n",
      "{'_id': 7, 'name': 'Nicky', 'address': 'Yellow Garden 23'}\n",
      "{'_id': 8, 'name': 'Nancy', 'address': 'Younge Ave. 123'}\n",
      "{'_id': 9, 'name': 'Viola', 'address': 'Sideway Ave'}\n"
     ]
    }
   ],
   "source": [
    "myquery = {\"address\": \"Valley 345\"}\n",
    "newvalues = {\"$set\": {\"address\": \"Canyon 123\"}}\n",
    "\n",
    "employee.update_one(myquery, newvalues)\n",
    "\n",
    "for x in employee.find():\n",
    "    print(x)\n"
   ]
  },
  {
   "cell_type": "markdown",
   "metadata": {},
   "source": [
    "### Update many records"
   ]
  },
  {
   "cell_type": "code",
   "execution_count": 68,
   "metadata": {},
   "outputs": [
    {
     "name": "stdout",
     "output_type": "stream",
     "text": [
      "0 documents updated.\n",
      "{'_id': ObjectId('66eceaf58e84545cc0da098a'), 'Name': 'Raj Kumar', 'Address': 'Sears Streer, NZ', 'Age': '42'}\n",
      "{'_id': 1, 'name': 'John', 'address': 'Highway 37'}\n",
      "{'_id': 2, 'name': 'Peter', 'address': 'Lowstreet 27'}\n",
      "{'_id': 3, 'name': 'Minnie', 'address': 'Close st 652'}\n",
      "{'_id': 4, 'name': 'Hannah', 'address': 'Mountain 21'}\n",
      "{'_id': 5, 'name': 'Minnie', 'address': 'Canyon 123'}\n",
      "{'_id': 6, 'name': 'Vicky', 'address': 'Yellow Garden 124'}\n",
      "{'_id': 7, 'name': 'Nicky', 'address': 'Yellow Garden 23'}\n",
      "{'_id': 8, 'name': 'Nancy', 'address': 'Younge Ave. 123'}\n",
      "{'_id': 9, 'name': 'Viola', 'address': 'Sideway Ave'}\n"
     ]
    }
   ],
   "source": [
    "myquery = {\"address\": {\"$regex\": \"^C\"}}\n",
    "newvalues = {\"$set\": {\"name\":\"Minnie\"}}\n",
    "\n",
    "y = employee.update_many(myquery, newvalues)\n",
    "\n",
    "print(y.modified_count, \"documents updated.\")\n",
    "\n",
    "for x in employee.find():\n",
    "    print(x)"
   ]
  },
  {
   "cell_type": "code",
   "execution_count": 69,
   "metadata": {},
   "outputs": [
    {
     "name": "stdout",
     "output_type": "stream",
     "text": [
      "UpdateResult({'n': 2, 'nModified': 0, 'ok': 1.0, 'updatedExisting': True}, acknowledged=True)\n"
     ]
    }
   ],
   "source": [
    "print(y)"
   ]
  },
  {
   "cell_type": "markdown",
   "metadata": {},
   "source": [
    "### Delete one Document"
   ]
  },
  {
   "cell_type": "code",
   "execution_count": 71,
   "metadata": {},
   "outputs": [
    {
     "data": {
      "text/plain": [
       "DeleteResult({'n': 0, 'ok': 1.0}, acknowledged=True)"
      ]
     },
     "execution_count": 71,
     "metadata": {},
     "output_type": "execute_result"
    }
   ],
   "source": [
    "db.employee.delete_one({\"Age\":\"35\"})"
   ]
  },
  {
   "cell_type": "code",
   "execution_count": 70,
   "metadata": {},
   "outputs": [
    {
     "data": {
      "text/plain": [
       "DeleteResult({'n': 1, 'ok': 1.0}, acknowledged=True)"
      ]
     },
     "execution_count": 70,
     "metadata": {},
     "output_type": "execute_result"
    }
   ],
   "source": [
    "myquery = {\"address\": \"Mountain\"}\n",
    "db.employee.delete_one({})\n"
   ]
  },
  {
   "cell_type": "code",
   "execution_count": null,
   "metadata": {},
   "outputs": [],
   "source": []
  }
 ],
 "metadata": {
  "kernelspec": {
   "display_name": ".venv",
   "language": "python",
   "name": "python3"
  },
  "language_info": {
   "codemirror_mode": {
    "name": "ipython",
    "version": 3
   },
   "file_extension": ".py",
   "mimetype": "text/x-python",
   "name": "python",
   "nbconvert_exporter": "python",
   "pygments_lexer": "ipython3",
   "version": "3.11.4"
  }
 },
 "nbformat": 4,
 "nbformat_minor": 2
}
